{
 "cells": [
  {
   "cell_type": "code",
   "execution_count": 53,
   "metadata": {},
   "outputs": [],
   "source": [
    "class Node:\n",
    "    def __init__(self,value):\n",
    "        self.value = value\n",
    "        self.next = None"
   ]
  },
  {
   "cell_type": "code",
   "execution_count": 54,
   "metadata": {},
   "outputs": [],
   "source": [
    "class Queue:\n",
    "    def __init__(self):\n",
    "        self.front = None \n",
    "        self.rear = None\n",
    "        self.n = 0\n",
    "    def enqueue(self,value):\n",
    "        new_node = Node(value)\n",
    "        if self.rear == None:\n",
    "            self.front = new_node\n",
    "            self.rear = new_node\n",
    "        else:\n",
    "            self.rear.next = new_node\n",
    "            self.rear = new_node\n",
    "        self.n+=1\n",
    "    def dequeue(self):\n",
    "        if self.front == None:\n",
    "            return \"EmptyQueue\"\n",
    "        else:\n",
    "            self.front = self.front.next\n",
    "        self.n-= 1\n",
    "    def traverse(self):\n",
    "        data = \"\"\n",
    "        curr = self.front\n",
    "        while curr!= None:\n",
    "            data = data + \" -> \" + str(curr.value)  \n",
    "            curr = curr.next\n",
    "        return data[4:]\n",
    "    def is_empty(self):\n",
    "        return self.n==0\n",
    "    def size(self):\n",
    "        return self.n\n",
    "    def front_peek(self):\n",
    "        if self.front == None:\n",
    "            return \"EmptyQueue\"\n",
    "        return self.front.value\n",
    "    def rear_peek(self):\n",
    "        if self.front == None:\n",
    "            return \"EmptyQueue\"\n",
    "        return self.rear.value"
   ]
  },
  {
   "cell_type": "code",
   "execution_count": 55,
   "metadata": {},
   "outputs": [],
   "source": [
    "obj = Queue()"
   ]
  },
  {
   "cell_type": "code",
   "execution_count": 56,
   "metadata": {},
   "outputs": [],
   "source": [
    "obj.enqueue(5)\n",
    "obj.enqueue(8)\n",
    "obj.enqueue(657)\n",
    "obj.enqueue(897)"
   ]
  },
  {
   "cell_type": "code",
   "execution_count": 57,
   "metadata": {},
   "outputs": [
    {
     "data": {
      "text/plain": [
       "'5 -> 8 -> 657 -> 897'"
      ]
     },
     "execution_count": 57,
     "metadata": {},
     "output_type": "execute_result"
    }
   ],
   "source": [
    "obj.traverse()"
   ]
  },
  {
   "cell_type": "code",
   "execution_count": 58,
   "metadata": {},
   "outputs": [
    {
     "data": {
      "text/plain": [
       "897"
      ]
     },
     "execution_count": 58,
     "metadata": {},
     "output_type": "execute_result"
    }
   ],
   "source": [
    "obj.rear_peek()"
   ]
  },
  {
   "cell_type": "code",
   "execution_count": 59,
   "metadata": {},
   "outputs": [
    {
     "data": {
      "text/plain": [
       "5"
      ]
     },
     "execution_count": 59,
     "metadata": {},
     "output_type": "execute_result"
    }
   ],
   "source": [
    "obj.front_peek()"
   ]
  },
  {
   "cell_type": "code",
   "execution_count": null,
   "metadata": {},
   "outputs": [],
   "source": []
  }
 ],
 "metadata": {
  "kernelspec": {
   "display_name": "Python 3",
   "language": "python",
   "name": "python3"
  },
  "language_info": {
   "codemirror_mode": {
    "name": "ipython",
    "version": 3
   },
   "file_extension": ".py",
   "mimetype": "text/x-python",
   "name": "python",
   "nbconvert_exporter": "python",
   "pygments_lexer": "ipython3",
   "version": "3.13.0"
  }
 },
 "nbformat": 4,
 "nbformat_minor": 2
}
